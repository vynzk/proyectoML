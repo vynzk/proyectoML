{
 "cells": [
  {
   "cell_type": "markdown",
   "id": "b7eb4906",
   "metadata": {},
   "source": [
    "# Semana 2: Reproducción del baseline"
   ]
  },
  {
   "cell_type": "markdown",
   "id": "0b096b20",
   "metadata": {},
   "source": [
    "## 2. Extracción de características (HRV, estadísticas)"
   ]
  },
  {
   "cell_type": "code",
   "execution_count": 10,
   "id": "a5c7520b",
   "metadata": {},
   "outputs": [
    {
     "name": "stdout",
     "output_type": "stream",
     "text": [
      "Datos del DataFrame:\n",
      "      mean_rr      std_rr   skew_rr    kurt_rr label\n",
      "0  761.666667   33.093435  0.133439   1.811500     N\n",
      "1  867.575758  251.388431 -1.267438   2.884663     N\n",
      "2  731.434599   79.934367 -2.918037  14.419521     N\n",
      "3  947.111111  178.938709  0.482376   2.062416     A\n",
      "4  542.324159  223.975072  1.170247   2.981416     A\n",
      "\n",
      "Cantidad de filas y columnas:\n",
      "(100, 5)\n"
     ]
    }
   ],
   "source": [
    "# obtener datos de ecg_rr_features_extracted.csv\n",
    "import pandas as pd\n",
    "import os\n",
    "import sys\n",
    "import numpy as np\n",
    "import matplotlib.pyplot as plt\n",
    "from scipy import stats\n",
    "# Configuración de la ruta del directorio\n",
    "current_dir = os.getcwd()\n",
    "# Ruta al archivo CSV\n",
    "csv_file = os.path.join(current_dir, 'ecg_rr_features_extracted.csv')\n",
    "# Cargar el archivo CSV\n",
    "df = pd.read_csv(csv_file)\n",
    "# Ver datos del DataFrame\n",
    "print(\"Datos del DataFrame:\")\n",
    "print(df.head())\n",
    "# cantidad de filas y columnas\n",
    "print(\"\\nCantidad de filas y columnas:\")    \n",
    "print(df.shape)"
   ]
  },
  {
   "cell_type": "markdown",
   "id": "d6491c53",
   "metadata": {},
   "source": [
    "## Quitar datos innecesarios"
   ]
  },
  {
   "cell_type": "code",
   "execution_count": 11,
   "id": "1fb31714",
   "metadata": {},
   "outputs": [
    {
     "name": "stdout",
     "output_type": "stream",
     "text": [
      "\n",
      "Tipos de labels:\n",
      "['N' 'A' 'O' '~']\n"
     ]
    }
   ],
   "source": [
    "# Ver los tipos de labels \n",
    "print(\"\\nTipos de labels:\")\n",
    "print(df['label'].unique())"
   ]
  },
  {
   "cell_type": "code",
   "execution_count": 15,
   "id": "3b532e01",
   "metadata": {},
   "outputs": [
    {
     "name": "stdout",
     "output_type": "stream",
     "text": [
      "\n",
      "Datos del DataFrame filtrados:\n",
      "      mean_rr      std_rr   skew_rr    kurt_rr label\n",
      "0  761.666667   33.093435  0.133439   1.811500     N\n",
      "1  867.575758  251.388431 -1.267438   2.884663     N\n",
      "2  731.434599   79.934367 -2.918037  14.419521     N\n",
      "3  947.111111  178.938709  0.482376   2.062416     A\n",
      "4  542.324159  223.975072  1.170247   2.981416     A\n",
      "\n",
      " labels únicos después del filtrado:\n",
      "['N' 'A']\n"
     ]
    }
   ],
   "source": [
    "# mantener sólo labels de tipo 'N' y 'A'\n",
    "df = df[df['label'].isin(['N', 'A'])]\n",
    "print(\"\\nDatos del DataFrame filtrados:\")\n",
    "print(df.head())\n",
    "print(\"\\n labels únicos después del filtrado:\")\n",
    "print(df['label'].unique())"
   ]
  },
  {
   "cell_type": "markdown",
   "id": "3e732271",
   "metadata": {},
   "source": [
    "## 3. Entrenamiento del modelo baseline (Random Forest)"
   ]
  },
  {
   "cell_type": "code",
   "execution_count": 17,
   "id": "2310b5db",
   "metadata": {},
   "outputs": [
    {
     "name": "stdout",
     "output_type": "stream",
     "text": [
      "\n",
      "Características más importantes:\n",
      "   feature  importance\n",
      "0  mean_rr    0.355163\n",
      "1   std_rr    0.263839\n",
      "2  skew_rr    0.209337\n",
      "3  kurt_rr    0.171661\n"
     ]
    },
    {
     "data": {
      "image/png": "[encoded data removed]",
      "text/plain": [
       "<Figure size 1000x600 with 1 Axes>"
      ]
     },
     "metadata": {},
     "output_type": "display_data"
    }
   ],
   "source": [
    "# aplicar random forest para obtener las características más importantes\n",
    "from sklearn.ensemble import RandomForestClassifier\n",
    "# Separar características y etiquetas\n",
    "X = df.drop(columns=['label'])\n",
    "y = df['label']\n",
    "# Crear el modelo de Random Forest\n",
    "rf = RandomForestClassifier(n_estimators=100, random_state=42)\n",
    "# Entrenar el modelo\n",
    "rf.fit(X, y)\n",
    "# Obtener la importancia de las características\n",
    "importances = rf.feature_importances_\n",
    "# Crear un DataFrame para las importancias\n",
    "importance_df = pd.DataFrame({'feature': X.columns, 'importance': importances})\n",
    "# Ordenar las importancias de mayor a menor\n",
    "importance_df = importance_df.sort_values(by='importance', ascending=False)\n",
    "# Mostrar las características más importantes\n",
    "print(\"\\nCaracterísticas más importantes:\")\n",
    "print(importance_df.head(10))\n",
    "# Graficar las importancias\n",
    "plt.figure(figsize=(10, 6))\n",
    "plt.barh(importance_df['feature'][:10], importance_df['importance'][:10], color='skyblue')\n",
    "plt.xlabel('Importancia')\n",
    "plt.title('Características más importantes según Random Forest')\n",
    "plt.gca().invert_yaxis()  # Invertir el eje y para mostrar la más importante en la parte superior\n",
    "plt.tight_layout()\n",
    "plt.show()\n"
   ]
  },
  {
   "cell_type": "markdown",
   "id": "b4e47e34",
   "metadata": {},
   "source": [
    "## 4. Evaluación simple (train/test o validación cruzada)"
   ]
  },
  {
   "cell_type": "code",
   "execution_count": 19,
   "id": "9f85c8e3",
   "metadata": {},
   "outputs": [
    {
     "name": "stdout",
     "output_type": "stream",
     "text": [
      "\n",
      "Precisión del modelo en el conjunto de prueba: 0.93\n",
      "\n",
      "Importancias de las características guardadas en: f:\\repoPart6\\proyectoML\\feature_importances.csv\n"
     ]
    }
   ],
   "source": [
    "# evaluacion simple (train/test o validación cruzada)\n",
    "from sklearn.model_selection import train_test_split\n",
    "# Dividir el conjunto de datos en entrenamiento y prueba\n",
    "X_train, X_test, y_train, y_test = train_test_split(X, y, test_size=0.2, random_state=42)\n",
    "# Entrenar el modelo con los datos de entrenamiento\n",
    "rf.fit(X_train, y_train)\n",
    "# Evaluar el modelo con los datos de prueba\n",
    "accuracy = rf.score(X_test, y_test)\n",
    "print(f\"\\nPrecisión del modelo en el conjunto de prueba: {accuracy:.2f}\")\n",
    "# Guardar el DataFrame de importancias en un archivo CSV\n",
    "importance_csv_file = os.path.join(current_dir, 'feature_importances.csv')\n",
    "importance_df.to_csv(importance_csv_file, index=False)\n",
    "print(f\"\\nImportancias de las características guardadas en: {importance_csv_file}\")"
   ]
  }
 ],
 "metadata": {
  "kernelspec": {
   "display_name": ".venv",
   "language": "python",
   "name": "python3"
  },
  "language_info": {
   "codemirror_mode": {
    "name": "ipython",
    "version": 3
   },
   "file_extension": ".py",
   "mimetype": "text/x-python",
   "name": "python",
   "nbconvert_exporter": "python",
   "pygments_lexer": "ipython3",
   "version": "3.11.9"
  }
 },
 "nbformat": 4,
 "nbformat_minor": 5
}
