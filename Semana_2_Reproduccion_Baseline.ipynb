{
 "cells": [
  {
   "cell_type": "markdown",
   "id": "b7eb4906",
   "metadata": {},
   "source": [
    "# Semana 2: Reproducción del baseline"
   ]
  },
  {
   "cell_type": "markdown",
   "id": "85633083",
   "metadata": {},
   "source": [
    "## 1. Preprocesamiento de señales (filtrado, detección de picos R)"
   ]
  },
  {
   "cell_type": "markdown",
   "id": "0b096b20",
   "metadata": {},
   "source": [
    "## 2. Extracción de características (HRV, estadísticas)"
   ]
  },
  {
   "cell_type": "markdown",
   "id": "3e732271",
   "metadata": {},
   "source": [
    "## 3. Entrenamiento del modelo baseline (Random Forest)"
   ]
  },
  {
   "cell_type": "markdown",
   "id": "b4e47e34",
   "metadata": {},
   "source": [
    "## 4. Evaluación simple (train/test o validación cruzada)"
   ]
  }
 ],
 "metadata": {},
 "nbformat": 4,
 "nbformat_minor": 5
}
