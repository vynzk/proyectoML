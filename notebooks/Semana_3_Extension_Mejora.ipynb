{
 "cells": [
  {
   "cell_type": "markdown",
   "id": "c432cf7e",
   "metadata": {},
   "source": [
    "# Semana 3: Extensión y mejora del pipeline"
   ]
  },
  {
   "cell_type": "markdown",
   "id": "932fc30d",
   "metadata": {},
   "source": [
    "## 1. Justificación de la mejora propuesta"
   ]
  },
  {
   "cell_type": "markdown",
   "id": "949db308",
   "metadata": {},
   "source": [
    "## 2. Implementación (modelo nuevo, nuevas features, etc.)"
   ]
  },
  {
   "cell_type": "markdown",
   "id": "e662e95b",
   "metadata": {},
   "source": [
    "## 3. Evaluación comparativa con el baseline"
   ]
  },
  {
   "cell_type": "markdown",
   "id": "3fea1407",
   "metadata": {},
   "source": [
    "## 4. Visualización de resultados"
   ]
  }
 ],
 "metadata": {},
 "nbformat": 4,
 "nbformat_minor": 5
}
