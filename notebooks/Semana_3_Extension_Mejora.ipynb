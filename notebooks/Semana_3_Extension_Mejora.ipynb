{
 "cells": [
  {
   "cell_type": "markdown",
   "id": "c432cf7e",
   "metadata": {},
   "source": [
    "# Semana 3: Extensión y mejora del pipeline"
   ]
  },
  {
   "cell_type": "markdown",
   "id": "932fc30d",
   "metadata": {},
   "source": [
    "## 1. Justificación de la mejora propuesta\n",
    "Se puede agregar la normalización de los datos, considerando la distribución de los datos (función logarítmica para datos \n",
    "sesgados hacia un extremo, y escala estandarizada para datos \n",
    "distribuidos en campana). \n",
    "\n",
    "Además, agregar un balanceo de clases con la técnica SMOTE, la cual crea datos artificiales a partir de existentes con el objetivo de igualar la cantidad de datos en ambas etiquetas debido a su desbalance. Esto reduciría accuracy, sin embargo, debería aumentar el porcentaje de precisión, ya que el desbalance probablemente está desajustando la medición.\n",
    "\n",
    "Junto con esto, se evaluarán otros modelos para comparar con el resultado inicial.\n",
    "\n",
    "\n",
    "\n",
    "\n"
   ]
  },
  {
   "cell_type": "markdown",
   "id": "949db308",
   "metadata": {},
   "source": [
    "## 2. Implementación (modelo nuevo, nuevas features, etc.)"
   ]
  },
  {
   "cell_type": "markdown",
   "id": "fc230439",
   "metadata": {},
   "source": [
    "### Cargar el dataset\n"
   ]
  },
  {
   "cell_type": "code",
   "execution_count": 11,
   "id": "4a635068",
   "metadata": {},
   "outputs": [
    {
     "name": "stdout",
     "output_type": "stream",
     "text": [
      "Datos del DataFrame:\n",
      "      mean_rr      std_rr   skew_rr    kurt_rr label\n",
      "0  761.666667   33.093435  0.133439   1.811500     N\n",
      "1  867.575758  251.388431 -1.267438   2.884663     N\n",
      "2  731.434599   79.934367 -2.918037  14.419521     N\n",
      "3  947.111111  178.938709  0.482376   2.062416     A\n",
      "4  542.324159  223.975072  1.170247   2.981416     A\n",
      "\n",
      "Cantidad de filas y columnas:\n",
      "(8527, 5)\n"
     ]
    },
    {
     "name": "stderr",
     "output_type": "stream",
     "text": [
      "<>:11: SyntaxWarning: invalid escape sequence '\\d'\n",
      "<>:11: SyntaxWarning: invalid escape sequence '\\d'\n",
      "C:\\Users\\valen\\AppData\\Local\\Temp\\ipykernel_10840\\2278839408.py:11: SyntaxWarning: invalid escape sequence '\\d'\n",
      "  csv_file = os.path.join(current_dir, '..\\data\\ecg_rr_features_complete.csv')\n"
     ]
    }
   ],
   "source": [
    "# obtener datos de ecg_rr_features_extracted.csv\n",
    "import pandas as pd\n",
    "import os\n",
    "import sys\n",
    "import numpy as np\n",
    "import matplotlib.pyplot as plt\n",
    "from scipy import stats\n",
    "# Configuración de la ruta del directorio\n",
    "current_dir = os.getcwd()\n",
    "# Ruta al archivo CSV\n",
    "csv_file = os.path.join(current_dir, '..\\data\\ecg_rr_features_complete.csv')\n",
    "# Cargar el archivo CSV\n",
    "df = pd.read_csv(csv_file)\n",
    "# Ver datos del DataFrame\n",
    "print(\"Datos del DataFrame:\")\n",
    "print(df.head())\n",
    "\n",
    "print(\"\\nCantidad de filas y columnas:\")    \n",
    "print(df.shape)"
   ]
  },
  {
   "cell_type": "markdown",
   "id": "321bbd4e",
   "metadata": {},
   "source": [
    "### Selección de labels\n",
    "Se considerará sólo 'N' y 'A' como labels válidas."
   ]
  },
  {
   "cell_type": "code",
   "execution_count": 12,
   "id": "c48b8535",
   "metadata": {},
   "outputs": [
    {
     "name": "stdout",
     "output_type": "stream",
     "text": [
      "\n",
      "Datos del DataFrame filtrados:\n",
      "      mean_rr      std_rr   skew_rr    kurt_rr label\n",
      "0  761.666667   33.093435  0.133439   1.811500     N\n",
      "1  867.575758  251.388431 -1.267438   2.884663     N\n",
      "2  731.434599   79.934367 -2.918037  14.419521     N\n",
      "3  947.111111  178.938709  0.482376   2.062416     A\n",
      "4  542.324159  223.975072  1.170247   2.981416     A\n",
      "\n",
      " labels únicos después del filtrado:\n",
      "['N' 'A']\n",
      "\n",
      "Cantidad de N: 5050\n",
      "Cantidad de A: 738\n"
     ]
    }
   ],
   "source": [
    "# mantener sólo labels de tipo 'N' y 'A'\n",
    "df = df[df['label'].isin(['N', 'A'])]\n",
    "print(\"\\nDatos del DataFrame filtrados:\")\n",
    "print(df.head())\n",
    "print(\"\\n labels únicos después del filtrado:\")\n",
    "print(df['label'].unique())\n",
    "\n",
    "# Cantidad de Ns\n",
    "n = df[df['label'] == 'N'].shape[0]\n",
    "# Cantidad de As\n",
    "a = df[df['label'] == 'A'].shape[0]\n",
    "print(\"\\nCantidad de N:\", n)\n",
    "print(\"Cantidad de A:\", a)"
   ]
  },
  {
   "cell_type": "code",
   "execution_count": 13,
   "id": "0ea541a1",
   "metadata": {},
   "outputs": [
    {
     "name": "stdout",
     "output_type": "stream",
     "text": [
      "Valores faltantes en X:\n",
      "mean_rr    0\n",
      "std_rr     0\n",
      "skew_rr    0\n",
      "kurt_rr    0\n",
      "dtype: int64\n",
      "\n",
      "Valores faltantes en y:\n",
      "0\n",
      "Forma final de X: (5788, 4)\n",
      "Forma final de y: (5788,)\n"
     ]
    }
   ],
   "source": [
    "# Separar características y etiquetas\n",
    "X = df.drop('label', axis=1)\n",
    "y = df['label']\n",
    "\n",
    "# Verificar valores faltantes antes de aplicar SMOTE\n",
    "print(\"Valores faltantes en X:\")\n",
    "print(X.isnull().sum())\n",
    "\n",
    "print(\"\\nValores faltantes en y:\")\n",
    "print(y.isnull().sum())\n",
    "\n",
    "# Eliminar filas con valores faltantes si existen\n",
    "if X.isnull().any().any() or y.isnull().any():\n",
    "    print(\"Eliminando filas con valores faltantes...\")\n",
    "    # Crear máscara para filas sin valores faltantes\n",
    "    mask = ~(X.isnull().any(axis=1) | y.isnull())\n",
    "    X_clean = X[mask]\n",
    "    y_clean = y[mask]\n",
    "else:\n",
    "    X_clean = X\n",
    "    y_clean = y\n",
    "\n",
    "print(f\"Forma final de X: {X_clean.shape}\")\n",
    "print(f\"Forma final de y: {y_clean.shape}\")"
   ]
  },
  {
   "cell_type": "markdown",
   "id": "5020c7e8",
   "metadata": {},
   "source": [
    "#### Aplicación de SMOTE"
   ]
  },
  {
   "cell_type": "code",
   "execution_count": 14,
   "id": "06d9dd43",
   "metadata": {},
   "outputs": [
    {
     "name": "stdout",
     "output_type": "stream",
     "text": [
      "\n",
      "Datos después de aplicar SMOTE:\n",
      "label\n",
      "N    5050\n",
      "A    5050\n",
      "Name: count, dtype: int64\n"
     ]
    }
   ],
   "source": [
    "from imblearn.over_sampling import SMOTE\n",
    "\n",
    "# Aplicar SMOTE\n",
    "smote = SMOTE(random_state=42)\n",
    "X_resampled, y_resampled = smote.fit_resample(X, y)\n",
    "\n",
    "# Crear un nuevo DataFrame con los datos balanceados\n",
    "df_resampled = pd.DataFrame(X_resampled, columns=X.columns)\n",
    "df_resampled['label'] = y_resampled\n",
    "\n",
    "print(\"\\nDatos después de aplicar SMOTE:\")\n",
    "print(df_resampled['label'].value_counts())"
   ]
  },
  {
   "cell_type": "markdown",
   "id": "3dc1cb0a",
   "metadata": {},
   "source": [
    "#### Normalizar los datos\n",
    "Se aplica Standar Scaler para `mean_rr` y `skew_rr`. Para `kurt_rr` y `std_rr` función logarítmica con el objetivo de reducir la diferencia de importancia de ciertos atributos frente a otros a la hora de entrenar el modelo."
   ]
  },
  {
   "cell_type": "code",
   "execution_count": 15,
   "id": "b9102443",
   "metadata": {},
   "outputs": [
    {
     "name": "stdout",
     "output_type": "stream",
     "text": [
      "\n",
      "Datos después de la normalización:\n",
      "    mean_rr   skew_rr   kurt_rr    std_rr label\n",
      "0 -0.107758 -0.057325  1.033718  3.529105     N\n",
      "1  0.472560 -1.042171  1.357036  5.530969     N\n",
      "2 -0.273412 -2.202576  2.735634  4.393639     N\n",
      "3  0.908365  0.187984  1.119204  5.192616     A\n",
      "4 -1.309623  0.671572  1.381637  5.415990     A\n"
     ]
    }
   ],
   "source": [
    "# aplicación de Standar Scaler\n",
    "from sklearn.preprocessing import StandardScaler\n",
    "# Normalizar los datos\n",
    "scaler = StandardScaler()\n",
    "X_scaled = scaler.fit_transform(X_resampled[['mean_rr', 'skew_rr']])\n",
    "# Aplicar logaritmo a 'kurt_rr' y 'std_rr'\n",
    "X_scaled = pd.DataFrame(X_scaled, columns=['mean_rr', 'skew_rr'])\n",
    "\n",
    "X_scaled['kurt_rr'] = np.log1p(X_resampled['kurt_rr'])\n",
    "X_scaled['std_rr'] = np.log1p(X_resampled['std_rr'])\n",
    "# Concatenar las características normalizadas con las etiquetas\n",
    "df_scaled = pd.DataFrame(X_scaled, columns=['mean_rr', 'skew_rr', 'kurt_rr', 'std_rr'])\n",
    "df_scaled['label'] = y_resampled.reset_index(drop=True)\n",
    "print(\"\\nDatos después de la normalización:\")\n",
    "print(df_scaled.head())\n",
    "# Guardar el DataFrame balanceado y normalizado en un nuevo archivo CSV"
   ]
  },
  {
   "cell_type": "markdown",
   "id": "a2e39894",
   "metadata": {},
   "source": [
    "# Entrenar modelos nuevos"
   ]
  },
  {
   "cell_type": "markdown",
   "id": "05fbb90f",
   "metadata": {},
   "source": [
    "#### Modelo Random Forest nuevo\n",
    "\n"
   ]
  },
  {
   "cell_type": "code",
   "execution_count": 16,
   "id": "023e8685",
   "metadata": {},
   "outputs": [
    {
     "name": "stdout",
     "output_type": "stream",
     "text": [
      "\n",
      "Características más importantes:\n",
      "   feature  importance\n",
      "0  mean_rr    0.329001\n",
      "1   std_rr    0.280979\n",
      "2  skew_rr    0.213681\n",
      "3  kurt_rr    0.176340\n"
     ]
    },
    {
     "data": {
      "image/png": "[encoded data removed]",
      "text/plain": [
       "<Figure size 1000x600 with 1 Axes>"
      ]
     },
     "metadata": {},
     "output_type": "display_data"
    }
   ],
   "source": [
    "# aplicar random forest para obtener las características más importantes\n",
    "from sklearn.ensemble import RandomForestClassifier\n",
    "# Separar características y etiquetas\n",
    "X = df.drop(columns=['label'])\n",
    "y = df['label']\n",
    "# Crear el modelo de Random Forest\n",
    "rf = RandomForestClassifier(n_estimators=100, random_state=42)\n",
    "# Entrenar el modelo\n",
    "rf.fit(X, y)\n",
    "# Obtener la importancia de las características\n",
    "importances = rf.feature_importances_\n",
    "# Crear un DataFrame para las importancias\n",
    "importance_df = pd.DataFrame({'feature': X.columns, 'importance': importances})\n",
    "# Ordenar las importancias de mayor a menor\n",
    "importance_df = importance_df.sort_values(by='importance', ascending=False)\n",
    "# Mostrar las características más importantes\n",
    "print(\"\\nCaracterísticas más importantes:\")\n",
    "print(importance_df.head(10))\n",
    "\n",
    "# Graficar las importancias\n",
    "plt.figure(figsize=(10, 6))\n",
    "plt.barh(importance_df['feature'][:10], importance_df['importance'][:10], color='skyblue')\n",
    "plt.xlabel('Importancia')\n",
    "plt.title('Características más importantes según Random Forest')\n",
    "plt.gca().invert_yaxis()  # Invertir el eje y para mostrar la más importante en la parte superior\n",
    "plt.tight_layout()\n",
    "plt.show()"
   ]
  },
  {
   "cell_type": "markdown",
   "id": "5c004673",
   "metadata": {},
   "source": [
    "# Evaluación de los modelos"
   ]
  },
  {
   "cell_type": "code",
   "execution_count": 25,
   "id": "080e7c0c",
   "metadata": {},
   "outputs": [
    {
     "name": "stdout",
     "output_type": "stream",
     "text": [
      "\n",
      "Dimensiones del conjunto de entrenamiento: (4630, 4) (4630,)\n",
      "Dimensiones del conjunto de prueba: (1158, 4) (1158,)\n"
     ]
    }
   ],
   "source": [
    "# dividir en entrenamiento y prueba\n",
    "from sklearn.model_selection import train_test_split\n",
    "# Dividir el conjunto de datos en entrenamiento y prueba\n",
    "X_train, X_test, y_train, y_test = train_test_split(X, y, test_size=0.2, random_state=42, stratify=y)\n",
    "# Verificar las dimensiones de los conjuntos de entrenamiento y prueba\n",
    "print(\"\\nDimensiones del conjunto de entrenamiento:\", X_train.shape, y_train.shape)\n",
    "print(\"Dimensiones del conjunto de prueba:\", X_test.shape, y_test.shape)\n"
   ]
  },
  {
   "cell_type": "code",
   "execution_count": null,
   "id": "044f1517",
   "metadata": {},
   "outputs": [
    {
     "name": "stdout",
     "output_type": "stream",
     "text": [
      "Entrenando Random Forest...\n",
      "Random Forest - F1: 0.859, Accuracy: 0.964\n",
      "Entrenando Gradient Boosting...\n",
      "Gradient Boosting - F1: 0.842, Accuracy: 0.959\n",
      "Entrenando Logistic Regression...\n",
      "Logistic Regression - F1: 0.700, Accuracy: 0.928\n",
      "Entrenando XGBoost...\n",
      "XGBoost - F1: 0.835, Accuracy: 0.958\n",
      "\n",
      "============================================================\n",
      "COMPARACIÓN FINAL DE MODELOS:\n",
      "============================================================\n",
      "                Modelo  Accuracy  F1-Score  Precision  Recall\n",
      "0        Random Forest     0.964     0.859      0.853   0.865\n",
      "1    Gradient Boosting     0.959     0.842      0.839   0.845\n",
      "2  Logistic Regression     0.928     0.700      0.752   0.655\n",
      "3              XGBoost     0.958     0.835      0.832   0.838\n",
      "\n",
      "🏆 MEJOR MODELO: Random Forest\n",
      "F1-Score: 0.859\n",
      "Accuracy: 0.964\n",
      "Precision: 0.853\n",
      "Recall: 0.865\n"
     ]
    },
    {
     "name": "stderr",
     "output_type": "stream",
     "text": [
      "c:\\Users\\valen\\OneDrive\\Documentos\\repo\\proyectoML\\.venv\\Lib\\site-packages\\xgboost\\training.py:183: UserWarning: [01:10:58] WARNING: C:\\actions-runner\\_work\\xgboost\\xgboost\\src\\learner.cc:738: \n",
      "Parameters: { \"use_label_encoder\" } are not used.\n",
      "\n",
      "  bst.update(dtrain, iteration=i, fobj=obj)\n"
     ]
    }
   ],
   "source": [
    "from sklearn.ensemble import GradientBoostingClassifier\n",
    "from sklearn.linear_model import LogisticRegression\n",
    "from sklearn.metrics import accuracy_score, f1_score, precision_score, recall_score, classification_report\n",
    "from sklearn.preprocessing import LabelEncoder\n",
    "import xgboost as xgb\n",
    "\n",
    "# Codificar etiquetas para XGBoost\n",
    "label_encoder = LabelEncoder()\n",
    "y_train_encoded = label_encoder.fit_transform(y_train)\n",
    "y_test_encoded = label_encoder.transform(y_test)\n",
    "\n",
    "# Diccionario de modelos\n",
    "models = {\n",
    "    'Random Forest': RandomForestClassifier(n_estimators=100, random_state=42),\n",
    "    'Gradient Boosting': GradientBoostingClassifier(random_state=42),\n",
    "    'Logistic Regression': LogisticRegression(random_state=42, max_iter=1000),\n",
    "    'XGBoost': xgb.XGBClassifier(random_state=42, eval_metric='logloss', use_label_encoder=False)\n",
    "}\n",
    "\n",
    "results = []\n",
    "\n",
    "for name, model in models.items():\n",
    "    print(f\"Entrenando {name}...\")\n",
    "    \n",
    "    # Para XGBoost usar etiquetas codificadas\n",
    "    if name == 'XGBoost':\n",
    "        model.fit(X_train, y_train_encoded)\n",
    "        y_pred_encoded = model.predict(X_test)\n",
    "        y_pred = label_encoder.inverse_transform(y_pred_encoded)\n",
    "    else:\n",
    "        model.fit(X_train, y_train)\n",
    "        y_pred = model.predict(X_test)\n",
    "    \n",
    "    # Calcular métricas\n",
    "    accuracy = accuracy_score(y_test, y_pred)\n",
    "    f1 = f1_score(y_test, y_pred, pos_label='A')\n",
    "    precision = precision_score(y_test, y_pred, pos_label='A')\n",
    "    recall = recall_score(y_test, y_pred, pos_label='A')\n",
    "    \n",
    "    results.append({\n",
    "        'Modelo': name,\n",
    "        'Accuracy': accuracy,\n",
    "        'F1-Score': f1,\n",
    "        'Precision': precision,\n",
    "        'Recall': recall\n",
    "    })\n",
    "    \n",
    "    print(f\"{name} - F1: {f1:.3f}, Accuracy: {accuracy:.3f}\")\n",
    "\n",
    "# Crear DataFrame con resultados\n",
    "results_df = pd.DataFrame(results)\n",
    "print(\"\\n\" + \"=\"*60)\n",
    "print(\"COMPARACIÓN FINAL DE MODELOS:\")\n",
    "print(\"=\"*60)\n",
    "print(results_df.round(3))\n",
    "\n",
    "# Encontrar el mejor modelo\n",
    "best_model_idx = results_df['F1-Score'].idxmax()\n",
    "best_model = results_df.loc[best_model_idx]\n",
    "print(f\"\\nMEJOR MODELO: {best_model['Modelo']}\")\n",
    "print(f\"F1-Score: {best_model['F1-Score']:.3f}\")\n",
    "print(f\"Accuracy: {best_model['Accuracy']:.3f}\")\n",
    "print(f\"Precision: {best_model['Precision']:.3f}\")\n",
    "print(f\"Recall: {best_model['Recall']:.3f}\")"
   ]
  },
  {
   "cell_type": "markdown",
   "id": "9cea4721",
   "metadata": {},
   "source": [
    "# Conclusiones\n",
    "Finalmente, a pesar de las mejoras parea el rendimiento del modelo `Random Forest` no cambió en nada significativo. Se evaluaron otros modelos como  `Gradient Boosting`,`Logistic Regression` y `XGBoost`, sin embargo el modelo más eficiente termina siento Random Forest igualmente"
   ]
  }
 ],
 "metadata": {
  "kernelspec": {
   "display_name": ".venv",
   "language": "python",
   "name": "python3"
  },
  "language_info": {
   "codemirror_mode": {
    "name": "ipython",
    "version": 3
   },
   "file_extension": ".py",
   "mimetype": "text/x-python",
   "name": "python",
   "nbconvert_exporter": "python",
   "pygments_lexer": "ipython3",
   "version": "3.12.10"
  }
 },
 "nbformat": 4,
 "nbformat_minor": 5
}
