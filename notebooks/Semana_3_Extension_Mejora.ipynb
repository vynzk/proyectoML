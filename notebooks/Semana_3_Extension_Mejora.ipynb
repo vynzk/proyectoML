{
 "cells": [
  {
   "cell_type": "markdown",
   "id": "c432cf7e",
   "metadata": {},
   "source": [
    "# Semana 3: Extensión y mejora del pipeline"
   ]
  },
  {
   "cell_type": "code",
   "execution_count": null,
   "id": "daf16111",
   "metadata": {},
   "outputs": [],
   "source": []
  },
  {
   "cell_type": "markdown",
   "id": "932fc30d",
   "metadata": {},
   "source": [
    "## 1. Justificación de la mejora propuesta\n",
    "Se puede agregar un balanceo de clases con la técnica SMOTE, la cual crea datos artificiales a partir de existentes con el objetivo de igualar la cantidad de datos en ambas etiquetas debido a su desbalance.\n",
    "\n",
    "\n"
   ]
  },
  {
   "cell_type": "markdown",
   "id": "949db308",
   "metadata": {},
   "source": [
    "## 2. Implementación (modelo nuevo, nuevas features, etc.)"
   ]
  },
  {
   "cell_type": "markdown",
   "id": "e662e95b",
   "metadata": {},
   "source": [
    "## 3. Evaluación comparativa con el baseline"
   ]
  },
  {
   "cell_type": "markdown",
   "id": "3fea1407",
   "metadata": {},
   "source": [
    "## 4. Visualización de resultados"
   ]
  }
 ],
 "metadata": {
  "kernelspec": {
   "display_name": ".venv",
   "language": "python",
   "name": "python3"
  },
  "language_info": {
   "name": "python",
   "version": "3.11.9"
  }
 },
 "nbformat": 4,
 "nbformat_minor": 5
}
