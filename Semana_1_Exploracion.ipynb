{
 "cells": [
  {
   "cell_type": "markdown",
   "id": "8144e0ac",
   "metadata": {},
   "source": [
    "# Semana 1: Exploración del problema y del dataset"
   ]
  },
  {
   "cell_type": "markdown",
   "id": "cc5a22b1",
   "metadata": {},
   "source": [
    "## Cargar librerías"
   ]
  },
  {
   "cell_type": "code",
   "execution_count": null,
   "id": "adf77cf5",
   "metadata": {},
   "outputs": [],
   "source": [
    "#%pip install biosppy pandas matplotlib\n",
    "#%pip install wfdb\n"
   ]
  },
  {
   "cell_type": "markdown",
   "id": "875e664e",
   "metadata": {},
   "source": [
    "## Inspección básica del dataset"
   ]
  },
  {
   "cell_type": "code",
   "execution_count": 7,
   "id": "f08f2946",
   "metadata": {},
   "outputs": [],
   "source": [
    "\n",
    "import wfdb\n",
    "import pandas as pd\n",
    "import os\n",
    "\n",
    "# Cargar el archivo CSV curado\n",
    "df_csv = pd.read_csv('ecg_rr_features_curado.csv') \n",
    "\n",
    "\n",
    "# Dataframe Completo\n",
    "\n",
    "# # Listar archivos .hea en la carpeta data\n",
    "# data_folder = 'data'\n",
    "# hea_files = [f for f in os.listdir(data_folder) if f.endswith('.hea')]\n",
    "\n",
    "# # escoger solo los primeros 10 archivos\n",
    "# hea_files = hea_files[:10]\n",
    "\n",
    "# print(\"Archivos\")\n",
    "# for file in hea_files:\n",
    "#     print(file)\n",
    "\n",
    "# # Cargar el primer archivo\n",
    "# if hea_files:\n",
    "#     record_name = os.path.join(data_folder, hea_files[0].replace('.hea', ''))\n",
    "#     record = wfdb.rdrecord(record_name)\n",
    "#     df = pd.DataFrame(record.p_signal, columns=record.sig_name)\n",
    "\n"
   ]
  },
  {
   "cell_type": "code",
   "execution_count": null,
   "id": "7e7e381c",
   "metadata": {},
   "outputs": [
    {
     "name": "stdout",
     "output_type": "stream",
     "text": [
      "Datos del CSV curado:\n",
      "      mean_rr     std_rr   skew_rr   kurt_rr   label\n",
      "0  849.671415  37.965868  0.404165  3.097078  Normal\n",
      "1  786.173570  87.045564  0.462868  3.968645    AFib\n",
      "2  864.768854  49.730056  0.278733  2.297947  Normal\n",
      "3  952.302986  28.845781  0.260759  2.672338    AFib\n",
      "4  776.584663  66.450898  0.662505  2.607892    AFib\n",
      "          mean_rr     std_rr    skew_rr    kurt_rr\n",
      "count   30.000000  30.000000  30.000000  30.000000\n",
      "mean   781.185310  47.576751   0.502577   2.979748\n",
      "std     90.000643  18.622044   0.198397   0.908822\n",
      "min    608.671976  10.806598  -0.023949   1.081229\n",
      "25%    740.894910  35.817727   0.397172   2.620240\n",
      "50%    776.585483  48.708545   0.505122   2.969387\n",
      "75%    836.033535  60.893236   0.647542   3.287354\n",
      "max    957.921282  87.045564   0.812929   5.463242\n",
      "mean_rr    float64\n",
      "std_rr     float64\n",
      "skew_rr    float64\n",
      "kurt_rr    float64\n",
      "label       object\n",
      "dtype: object\n"
     ]
    }
   ],
   "source": [
    "# Ver los datos del CSV curado\n",
    "print(\"Datos del CSV curado:\")\n",
    "print(df_csv.head())\n",
    "print(df_csv.describe())\n",
    "print(df_csv.dtypes)\n"
   ]
  },
  {
   "cell_type": "code",
   "execution_count": null,
   "id": "9eaacf94",
   "metadata": {},
   "outputs": [],
   "source": [
    "\n",
    "# # Ver los datos del DataFrame completo \n",
    "# print(df.head())\n",
    "# print(df.describe())\n",
    "\n",
    "# # tipos de datos\n",
    "# print(df.dtypes)"
   ]
  },
  {
   "cell_type": "markdown",
   "id": "2a06c227",
   "metadata": {},
   "source": [
    "## Visualización de distribución"
   ]
  },
  {
   "cell_type": "code",
   "execution_count": 12,
   "id": "60e1f09a",
   "metadata": {},
   "outputs": [
    {
     "data": {
      "image/png": "[encoded data removed]",
      "text/plain": [
       "<Figure size 640x480 with 1 Axes>"
      ]
     },
     "metadata": {},
     "output_type": "display_data"
    }
   ],
   "source": [
    "# visualizar distribución por etiqueta de csv curado\n",
    "import matplotlib.pyplot as plt\n",
    "\n",
    "# Graficar la distribución exacta de etiquetas con conteo\n",
    "counts = df_csv['label'].value_counts()\n",
    "counts.plot(kind='bar', color=['skyblue', 'salmon'])\n",
    "for i, v in enumerate(counts):\n",
    "    plt.text(i, v + 0.2, str(v), ha='center', fontweight='bold')\n",
    "plt.title('Distribución exacta de etiquetas (CSV curado)')\n",
    "plt.xlabel('Etiqueta')\n",
    "plt.ylabel('Frecuencia')\n",
    "plt.ylim(0, counts.max() + 2)\n",
    "plt.show()\n"
   ]
  },
  {
   "cell_type": "markdown",
   "id": "591caea5",
   "metadata": {},
   "source": [
    "## Conclusiones (CSV curado)\n",
    "### ¿Qué variables parecen diferenciar más entre clases?\n",
    "- La desviación estándar de Afib tiene valores más altos, habría mas variabilidad entre cada latido, los casos normales tendrían ritmos más estables.\n",
    "- Skew-rr sería la asmietría, reflejaría latidos irregulares, mientras que los casos normales tienen una distribución más simétrica.\n",
    "- mean_rr sería el promedio de intervalos RR, tiene algunos valores similares, la verdad no sería tan diferencial pero puede ayudar.\n",
    "### ¿Qué aspectos del dataset llaman la atención?\n",
    "- Existe desbalance de clases: 18 \"Normal\" y 12 \"Afib\", pero no sería crítico.\n",
    "- Que la Curtosis (Kurt_rr) llegue a 5.46 indica que algunas señales podrían tener ruido o arritmias.\n",
    "- std_rr sería el más discriminante porque muestra los latidos irregulares. \n"
   ]
  }
 ],
 "metadata": {
  "kernelspec": {
   "display_name": ".venv",
   "language": "python",
   "name": "python3"
  },
  "language_info": {
   "codemirror_mode": {
    "name": "ipython",
    "version": 3
   },
   "file_extension": ".py",
   "mimetype": "text/x-python",
   "name": "python",
   "nbconvert_exporter": "python",
   "pygments_lexer": "ipython3",
   "version": "3.12.10"
  }
 },
 "nbformat": 4,
 "nbformat_minor": 5
}
