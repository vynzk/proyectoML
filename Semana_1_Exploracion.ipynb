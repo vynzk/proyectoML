{
 "cells": [
  {
   "cell_type": "markdown",
   "id": "8144e0ac",
   "metadata": {},
   "source": [
    "# Semana 1: Exploración del problema y del dataset"
   ]
  },
  {
   "cell_type": "markdown",
   "id": "cc5a22b1",
   "metadata": {},
   "source": [
    "## 1. Cargar y visualizar señales ECG"
   ]
  },
  {
   "cell_type": "markdown",
   "id": "a4c761e0",
   "metadata": {},
   "source": [
    "### Recomendación: usar matplotlib, wfdb, scipy.io"
   ]
  },
  {
   "cell_type": "markdown",
   "id": "355d7de6",
   "metadata": {},
   "source": [
    "## 2. Resumen del artículo base (Clifford et al., 2017)"
   ]
  },
  {
   "cell_type": "markdown",
   "id": "73f335a7",
   "metadata": {},
   "source": [
    "## 3. Análisis del dataset (cantidad de señales, duración, etiquetas, etc.)"
   ]
  }
 ],
 "metadata": {},
 "nbformat": 4,
 "nbformat_minor": 5
}
